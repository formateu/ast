{
 "cells": [
  {
   "cell_type": "code",
   "execution_count": 1,
   "metadata": {},
   "outputs": [],
   "source": [
    "import os\n",
    "import numpy as np\n",
    "from scipy.io.wavfile import read\n",
    "from scipy.signal import spectrogram\n",
    "import matplotlib.pyplot as plt"
   ]
  },
  {
   "cell_type": "code",
   "execution_count": 23,
   "metadata": {},
   "outputs": [],
   "source": [
    "def load_all_wavs(root_path):\n",
    "    loaded_wavs = []\n",
    "    rates = []\n",
    "    for root, _, filenames in os.walk(root_path):\n",
    "        for fname in filenames:\n",
    "            file_path = os.path.join(root, fname)\n",
    "            rate, data = read(file_path)\n",
    "            loaded_wavs.append(data)\n",
    "            rates.append(rate)\n",
    "\n",
    "    return np.array(rates), np.array(loaded_wavs)"
   ]
  },
  {
   "cell_type": "code",
   "execution_count": 24,
   "metadata": {},
   "outputs": [],
   "source": [
    "def load_dataset():\n",
    "    dataset = {}\n",
    "    jap_rates, jap_speakers = load_all_wavs('./ume-erj/wav/JE')\n",
    "    eng_rates, eng_speakers = load_all_wavs('./ume-erj/wav/AE')\n",
    "    # Model speakers for validation\n",
    "    mdl_rates, mdl_speakers = load_all_wavs('./ume-erj/wav/MDL')\n",
    "\n",
    "    dataset[\"jap_rates\"] = jap_rates\n",
    "    dataset[\"jap_speakers\"] = jap_speakers\n",
    "    dataset[\"eng_rates\"] = eng_rates\n",
    "    dataset[\"eng_speakers\"] = eng_speakers\n",
    "    dataset[\"mdl_rates\"] = eng_rates\n",
    "    dataset[\"mdl_speakers\"] = eng_speakers\n",
    "\n",
    "    return dataset"
   ]
  },
  {
   "cell_type": "code",
   "execution_count": 42,
   "metadata": {},
   "outputs": [],
   "source": [
    "def audio_to_spectrogram(rates, data):\n",
    "    #assert(rates.shape[0] == data.shape[0])\n",
    "    result = []\n",
    "    for rate, wav in zip(rates, data):\n",
    "        f, t, Sxx = spectrogram(wav, 1/rate)\n",
    "        result.append((f, t, Sxx ))\n",
    "    return result"
   ]
  },
  {
   "cell_type": "code",
   "execution_count": 26,
   "metadata": {},
   "outputs": [],
   "source": [
    "# this can take a while\n",
    "dataset = load_dataset()"
   ]
  },
  {
   "cell_type": "code",
   "execution_count": 44,
   "metadata": {},
   "outputs": [
    {
     "data": {
      "image/png": "[encoded data removed]",
      "text/plain": [
       "<Figure size 432x288 with 1 Axes>"
      ]
     },
     "metadata": {
      "needs_background": "light"
     },
     "output_type": "display_data"
    }
   ],
   "source": [
    "# convert japanese speakers wav files to spectrograms\n",
    "jap_rates = dataset[\"jap_rates\"]\n",
    "jap_speakers = dataset[\"jap_speakers\"]\n",
    "# convert audio to spectrogram\n",
    "f, t, Sxx = audio_to_spectrogram(np.array([jap_rates[0]]), [jap_speakers[0]])[0]\n",
    "# visualize example\n",
    "plt.pcolormesh(f, t, Sxx.T)\n",
    "plt.ylabel('Frequency [Hz]')\n",
    "plt.xlabel('Time [sec]')\n",
    "plt.show()\n"
   ]
  }
 ],
 "metadata": {
  "kernelspec": {
   "display_name": "Python 3",
   "language": "python",
   "name": "python3"
  },
  "language_info": {
   "codemirror_mode": {
    "name": "ipython",
    "version": 3
   },
   "file_extension": ".py",
   "mimetype": "text/x-python",
   "name": "python",
   "nbconvert_exporter": "python",
   "pygments_lexer": "ipython3",
   "version": "3.8.2"
  }
 },
 "nbformat": 4,
 "nbformat_minor": 4
}
